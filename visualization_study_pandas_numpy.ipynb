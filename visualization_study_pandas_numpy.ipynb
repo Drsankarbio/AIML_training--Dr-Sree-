{
  "nbformat": 4,
  "nbformat_minor": 0,
  "metadata": {
    "colab": {
      "provenance": [],
      "gpuType": "T4",
      "authorship_tag": "ABX9TyP7H1T54nfqX1kfIPPq8GNO",
      "include_colab_link": true
    },
    "kernelspec": {
      "name": "python3",
      "display_name": "Python 3"
    },
    "language_info": {
      "name": "python"
    },
    "accelerator": "GPU"
  },
  "cells": [
    {
      "cell_type": "markdown",
      "metadata": {
        "id": "view-in-github",
        "colab_type": "text"
      },
      "source": [
        "<a href=\"https://colab.research.google.com/github/Drsankarbio/AIML_training--Dr-Sree-/blob/main/visualization_study_pandas_numpy.ipynb\" target=\"_parent\"><img src=\"https://colab.research.google.com/assets/colab-badge.svg\" alt=\"Open In Colab\"/></a>"
      ]
    },
    {
      "cell_type": "code",
      "execution_count": null,
      "metadata": {
        "id": "aWAHA6SCtpLi"
      },
      "outputs": [],
      "source": [
        "import numpy as np\n",
        "import pandas as pd\n",
        "import matplotlib.pyplot as plt\n",
        "import seaborn as sns\n",
        "sns.set(color_codes=True)\n",
        "\n",
        "x= np.random.random(100)\n",
        "y= np.random.normal(size=100)\n"
      ]
    },
    {
      "cell_type": "code",
      "source": [
        "print(x)"
      ],
      "metadata": {
        "colab": {
          "base_uri": "https://localhost:8080/"
        },
        "id": "EbX1G2q7uzsH",
        "outputId": "e48f8204-a87b-48b1-cf47-c749c9a5e1c4"
      },
      "execution_count": 6,
      "outputs": [
        {
          "output_type": "stream",
          "name": "stdout",
          "text": [
            "[0.49857584 0.15702621 0.96745459 0.4454407  0.25361328 0.88600045\n",
            " 0.7066225  0.58667476 0.02033313 0.1051271  0.77707134 0.50527679\n",
            " 0.44380765 0.51976163 0.47564386 0.42424675 0.40354375 0.19310863\n",
            " 0.3562411  0.29684174 0.46546906 0.12186663 0.33893058 0.44964215\n",
            " 0.26099045 0.93614638 0.67806056 0.11211157 0.04214069 0.06119074\n",
            " 0.4997924  0.67483678 0.4275251  0.05315165 0.78840019 0.33745628\n",
            " 0.08991511 0.98049734 0.58815995 0.01054188 0.9243443  0.6285882\n",
            " 0.26368257 0.99124637 0.17962456 0.95316714 0.59623886 0.88546968\n",
            " 0.17681767 0.2383655  0.3213103  0.02220381 0.4244588  0.98830301\n",
            " 0.27606742 0.26073151 0.73268784 0.12659696 0.78458108 0.28167861\n",
            " 0.22638942 0.2100529  0.72783557 0.46535693 0.87644983 0.74164419\n",
            " 0.92514886 0.01517714 0.40375134 0.85837064 0.05228585 0.37974475\n",
            " 0.33948619 0.27876946 0.2837475  0.69544022 0.20941297 0.32926322\n",
            " 0.31583559 0.47741326 0.56021691 0.91818211 0.92022576 0.73163183\n",
            " 0.2245769  0.04019924 0.68515049 0.73644331 0.64514343 0.21483247\n",
            " 0.17080064 0.46330949 0.36998932 0.16811933 0.45844116 0.40857612\n",
            " 0.52310897 0.78315781 0.39054051 0.2703162 ]\n"
          ]
        }
      ]
    }
  ]
}